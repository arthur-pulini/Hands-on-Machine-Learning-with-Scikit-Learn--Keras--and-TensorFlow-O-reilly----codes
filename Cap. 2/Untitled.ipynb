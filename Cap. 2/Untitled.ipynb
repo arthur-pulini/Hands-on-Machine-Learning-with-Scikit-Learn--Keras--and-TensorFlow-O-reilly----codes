{
 "cells": [
  {
   "cell_type": "markdown",
   "id": "227b03e3-e1d4-492a-9bd0-31d38170987d",
   "metadata": {},
   "source": [
    "***Primeiro Passo:***"
   ]
  },
  {
   "cell_type": "markdown",
   "id": "86752c05-aa87-413b-afc3-9cb02afe090a",
   "metadata": {},
   "source": [
    "Entendendo o problema: Criação de um modelo para a precificação de casa no estado da California."
   ]
  },
  {
   "cell_type": "markdown",
   "id": "3f732c77-2673-4320-9895-3f9083d382dd",
   "metadata": {},
   "source": [
    "***Segundo Passo:***"
   ]
  },
  {
   "cell_type": "markdown",
   "id": "47302dd9-8d8d-4474-b7b0-d337156ef9b1",
   "metadata": {},
   "source": [
    "Qual é o tipo de problema, supervisionado, não supervisionado, ou aprendizado por reforço: É um problema de aprendizado supervisionado, desde que hajam labels, é um problema de regressão, visto que foi solicitado prever um valor."
   ]
  },
  {
   "cell_type": "markdown",
   "id": "d6f1859d-d301-4dea-a398-e8c8a61e0366",
   "metadata": {},
   "source": [
    "***Terceiro Passo***"
   ]
  },
  {
   "cell_type": "markdown",
   "id": "e02c3efb-9b02-4b95-97da-207c6db9003b",
   "metadata": {},
   "source": [
    "Selecionando uma medida de desempenho: Para o caso de uma regressão, são comuns as medidas Erro Quadrático Médio(RMSE) e o Erro Médio Absoluto(MAE)."
   ]
  },
  {
   "cell_type": "markdown",
   "id": "1f392aeb-ba46-4d73-b785-9ca9943bc020",
   "metadata": {},
   "source": [
    "***Pegando os dados***"
   ]
  },
  {
   "cell_type": "markdown",
   "id": "e18b2c25-32fa-44ed-8e1e-056c36b52a32",
   "metadata": {},
   "source": [
    "***Baixando os dados***"
   ]
  },
  {
   "cell_type": "code",
   "execution_count": 2,
   "id": "a58bf221-93d8-4659-9600-31b14c052491",
   "metadata": {},
   "outputs": [],
   "source": [
    "import os\n",
    "import tarfile\n",
    "import urllib.request\n",
    "\n",
    "DOWNLOAD_ROOT = \"https://raw.githubusercontent.com/ageron/handson-ml2/master/\"\n",
    "#Criando o caminho para o diretório\n",
    "HOUSING_PATH = os.path.join(\"datasets\", \"housing\")\n",
    "#criando a URL\n",
    "HOUSING_URL = DOWNLOAD_ROOT + \"datasets/housing/housing.tgz\"\n",
    "\n",
    "def fetch_housing_data(housing_url=HOUSING_URL, housing_path=HOUSING_PATH):\n",
    "    #Caso o diretório não exista, ele o cria\n",
    "    if not os.path.isdir(housing_path):\n",
    "        os.makedirs(housing_path)\n",
    "    #Cria o caminho para o arquivo .tzg    \n",
    "    tgz_path = os.path.join(housing_path, \"housing.tgz\")\n",
    "    #Baixa pela url em housing_url e armazena no diretorio em tgz_path\n",
    "    urllib.request.urlretrieve(housing_url, tgz_path)\n",
    "    #Abre o arquivo\n",
    "    housing_tgz = tarfile.open(tgz_path)\n",
    "    #Extrai tudo do arquivo\n",
    "    housing_tgz.extractall(path=housing_path)\n",
    "    housing_tgz.close()\n"
   ]
  },
  {
   "cell_type": "code",
   "execution_count": 3,
   "id": "49dd6a12-2132-47d0-b19f-793fc63a3f0d",
   "metadata": {},
   "outputs": [],
   "source": [
    "fetch_housing_data()"
   ]
  },
  {
   "cell_type": "code",
   "execution_count": 4,
   "id": "e21ce982-acf4-4c58-ab4d-883a8c9b2f2b",
   "metadata": {},
   "outputs": [],
   "source": [
    "import pandas as pd\n",
    "\n",
    "def load_housing_data(housing_path=HOUSING_PATH):\n",
    "    csv_path = os.path.join(housing_path, \"housing.csv\")\n",
    "    return pd.read_csv(csv_path)\n"
   ]
  },
  {
   "cell_type": "code",
   "execution_count": 5,
   "id": "59b99b96-561d-48e1-acd1-9d0119ff0b16",
   "metadata": {},
   "outputs": [
    {
     "data": {
      "text/html": [
       "<div>\n",
       "<style scoped>\n",
       "    .dataframe tbody tr th:only-of-type {\n",
       "        vertical-align: middle;\n",
       "    }\n",
       "\n",
       "    .dataframe tbody tr th {\n",
       "        vertical-align: top;\n",
       "    }\n",
       "\n",
       "    .dataframe thead th {\n",
       "        text-align: right;\n",
       "    }\n",
       "</style>\n",
       "<table border=\"1\" class=\"dataframe\">\n",
       "  <thead>\n",
       "    <tr style=\"text-align: right;\">\n",
       "      <th></th>\n",
       "      <th>longitude</th>\n",
       "      <th>latitude</th>\n",
       "      <th>housing_median_age</th>\n",
       "      <th>total_rooms</th>\n",
       "      <th>total_bedrooms</th>\n",
       "      <th>population</th>\n",
       "      <th>households</th>\n",
       "      <th>median_income</th>\n",
       "      <th>median_house_value</th>\n",
       "      <th>ocean_proximity</th>\n",
       "    </tr>\n",
       "  </thead>\n",
       "  <tbody>\n",
       "    <tr>\n",
       "      <th>0</th>\n",
       "      <td>-122.23</td>\n",
       "      <td>37.88</td>\n",
       "      <td>41.0</td>\n",
       "      <td>880.0</td>\n",
       "      <td>129.0</td>\n",
       "      <td>322.0</td>\n",
       "      <td>126.0</td>\n",
       "      <td>8.3252</td>\n",
       "      <td>452600.0</td>\n",
       "      <td>NEAR BAY</td>\n",
       "    </tr>\n",
       "    <tr>\n",
       "      <th>1</th>\n",
       "      <td>-122.22</td>\n",
       "      <td>37.86</td>\n",
       "      <td>21.0</td>\n",
       "      <td>7099.0</td>\n",
       "      <td>1106.0</td>\n",
       "      <td>2401.0</td>\n",
       "      <td>1138.0</td>\n",
       "      <td>8.3014</td>\n",
       "      <td>358500.0</td>\n",
       "      <td>NEAR BAY</td>\n",
       "    </tr>\n",
       "    <tr>\n",
       "      <th>2</th>\n",
       "      <td>-122.24</td>\n",
       "      <td>37.85</td>\n",
       "      <td>52.0</td>\n",
       "      <td>1467.0</td>\n",
       "      <td>190.0</td>\n",
       "      <td>496.0</td>\n",
       "      <td>177.0</td>\n",
       "      <td>7.2574</td>\n",
       "      <td>352100.0</td>\n",
       "      <td>NEAR BAY</td>\n",
       "    </tr>\n",
       "    <tr>\n",
       "      <th>3</th>\n",
       "      <td>-122.25</td>\n",
       "      <td>37.85</td>\n",
       "      <td>52.0</td>\n",
       "      <td>1274.0</td>\n",
       "      <td>235.0</td>\n",
       "      <td>558.0</td>\n",
       "      <td>219.0</td>\n",
       "      <td>5.6431</td>\n",
       "      <td>341300.0</td>\n",
       "      <td>NEAR BAY</td>\n",
       "    </tr>\n",
       "    <tr>\n",
       "      <th>4</th>\n",
       "      <td>-122.25</td>\n",
       "      <td>37.85</td>\n",
       "      <td>52.0</td>\n",
       "      <td>1627.0</td>\n",
       "      <td>280.0</td>\n",
       "      <td>565.0</td>\n",
       "      <td>259.0</td>\n",
       "      <td>3.8462</td>\n",
       "      <td>342200.0</td>\n",
       "      <td>NEAR BAY</td>\n",
       "    </tr>\n",
       "  </tbody>\n",
       "</table>\n",
       "</div>"
      ],
      "text/plain": [
       "   longitude  latitude  housing_median_age  total_rooms  total_bedrooms  \\\n",
       "0    -122.23     37.88                41.0        880.0           129.0   \n",
       "1    -122.22     37.86                21.0       7099.0          1106.0   \n",
       "2    -122.24     37.85                52.0       1467.0           190.0   \n",
       "3    -122.25     37.85                52.0       1274.0           235.0   \n",
       "4    -122.25     37.85                52.0       1627.0           280.0   \n",
       "\n",
       "   population  households  median_income  median_house_value ocean_proximity  \n",
       "0       322.0       126.0         8.3252            452600.0        NEAR BAY  \n",
       "1      2401.0      1138.0         8.3014            358500.0        NEAR BAY  \n",
       "2       496.0       177.0         7.2574            352100.0        NEAR BAY  \n",
       "3       558.0       219.0         5.6431            341300.0        NEAR BAY  \n",
       "4       565.0       259.0         3.8462            342200.0        NEAR BAY  "
      ]
     },
     "execution_count": 5,
     "metadata": {},
     "output_type": "execute_result"
    }
   ],
   "source": [
    "housing = load_housing_data()\n",
    "housing.head()"
   ]
  },
  {
   "cell_type": "code",
   "execution_count": null,
   "id": "6b3fc2fb-a1ad-417d-b2b8-cd68066c1c89",
   "metadata": {},
   "outputs": [],
   "source": []
  }
 ],
 "metadata": {
  "kernelspec": {
   "display_name": "Python 3 (ipykernel)",
   "language": "python",
   "name": "python3"
  },
  "language_info": {
   "codemirror_mode": {
    "name": "ipython",
    "version": 3
   },
   "file_extension": ".py",
   "mimetype": "text/x-python",
   "name": "python",
   "nbconvert_exporter": "python",
   "pygments_lexer": "ipython3",
   "version": "3.10.12"
  }
 },
 "nbformat": 4,
 "nbformat_minor": 5
}
